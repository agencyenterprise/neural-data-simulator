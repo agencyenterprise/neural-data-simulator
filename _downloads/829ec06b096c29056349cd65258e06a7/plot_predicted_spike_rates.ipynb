{
  "cells": [
    {
      "cell_type": "code",
      "execution_count": null,
      "metadata": {
        "collapsed": false
      },
      "outputs": [],
      "source": [
        "%matplotlib inline"
      ]
    },
    {
      "cell_type": "markdown",
      "metadata": {},
      "source": [
        "\n# Visualize predicted spike rates with generated spikes\n\n.. currentmodule:: neural_data_simulator\n\nThe goal of this example is to compare the spike rates predicted by\nthe encoder with the spikes created by `ephys generator`.\n\nTo avoid downloading a big numpy file containing the electrophysiology data, we\nextracted the spike rates and stored it in a new file. Feel free\nto run the example locally, collecting your electrophysiology data and extracting\nthe spike rates from it.\n\nBy default, this script downloads the data to be plotted from AWS S3, if\nyou prefer to run this script with your own data, you can start the closed\nloop simulation in one terminal::\n\n    make run-closed-loop\n\nAnd then record the stream in another terminal::\n\n    recorder --session \"encoded_rates\" --lsl \"NDS-RawData,NDS-SpikeRates\" --recording-time 10\n\nMake sure to change the variable::\n\n    LOCAL_DATA = True\n\nand replace the variables with the paths to your data::\n\n    RAW_DATA_PATH = \"the_path_to_your_recorded_raw_data.npz\"\n    ENCODER_SPIKE_RATES_PATH = \"the_path_to_your_recorded_spike_rates_data.npz\"\n"
      ]
    },
    {
      "cell_type": "markdown",
      "metadata": {},
      "source": [
        "## Configuration\n\n"
      ]
    },
    {
      "cell_type": "code",
      "execution_count": null,
      "metadata": {
        "collapsed": false
      },
      "outputs": [],
      "source": [
        "LOCAL_DATA = False"
      ]
    },
    {
      "cell_type": "markdown",
      "metadata": {},
      "source": [
        "## Find spikes and bin rates from electrophysiology data\n\n"
      ]
    },
    {
      "cell_type": "code",
      "execution_count": null,
      "metadata": {
        "collapsed": false
      },
      "outputs": [],
      "source": [
        "from urllib.parse import urljoin\n\nimport matplotlib.pyplot as plt\nimport numpy as np\nimport pooch\nfrom scipy import signal\n\nfrom neural_data_simulator.filters import BandpassFilter\nfrom neural_data_simulator.filters import GaussianFilter\n\n\ndef threshold_crossing(a: np.ndarray) -> np.ndarray:\n    return np.nonzero((a[1:] <= -200) & (a[:-1] > -200))[0] + 1\n\n\ndef get_bin_rates(samples: np.ndarray, duration: float) -> np.ndarray:\n    bin_rates: list = [[] for channel in range(samples.shape[1])]\n    for sample_slice in range(0, samples.shape[0], 600):\n        sliced_sample = samples[sample_slice : sample_slice + 600, :]\n        for channel in range(raw_data.shape[1]):\n            spike_indices = threshold_crossing(sliced_sample[:, channel])\n            rate = len(spike_indices) / duration\n            bin_rates[channel].append(rate)\n    return np.array(bin_rates)"
      ]
    },
    {
      "cell_type": "markdown",
      "metadata": {},
      "source": [
        "## Extract spike rates from electrophysiology data\n\n"
      ]
    },
    {
      "cell_type": "code",
      "execution_count": null,
      "metadata": {
        "collapsed": false
      },
      "outputs": [],
      "source": [
        "if LOCAL_DATA:\n    RAW_DATA_PATH = \"encoded_rates_NDS-RawData.npz\"\n    raw_data_file = np.load(RAW_DATA_PATH)\n    raw_data = raw_data_file[\"data\"]\n    raw_data_timestamps = raw_data_file[\"timestamps\"] - raw_data_file[\"timestamps\"][0]\n\n    n_channels = raw_data.shape[1]\n\n    raw_data_filter = BandpassFilter(\n        name=\"bp_filter\",\n        filter_order=1,\n        critical_frequencies=(250, 2000),\n        sample_rate=30_000,\n        num_channels=n_channels,\n        enabled=True,\n    )\n    rates_filter = GaussianFilter(\n        name=\"gauss_filter\",\n        window_size=6,\n        std=3,\n        normalization_coeff=6,\n        num_channels=n_channels,\n        enabled=True,\n    )\n\n    filtered_data = raw_data_filter.execute(raw_data)\n    bin_rates = get_bin_rates(filtered_data, duration=1 / 50)\n    filtered_bin_rates = rates_filter.execute(bin_rates.T).T\n\n    np.savez(\"bin_rates_NDS-RawData.npz\", filtered_bin_rates)"
      ]
    },
    {
      "cell_type": "markdown",
      "metadata": {},
      "source": [
        "## Set data source\nRetrieve the data from AWS S3 or define local data paths\n\n"
      ]
    },
    {
      "cell_type": "code",
      "execution_count": null,
      "metadata": {
        "collapsed": false
      },
      "outputs": [],
      "source": [
        "if LOCAL_DATA:\n    GENERATED_BIN_RATES_PATH = \"bin_rates_NDS-RawData.npz\"\n    ENCODER_SPIKE_RATES_PATH = \"encoded_rates_NDS-SpikeRates.npz\"\nelse:\n    DOWNLOAD_BASE_URL = \"https://neural-data-simulator.s3.amazonaws.com/sample_data/v1/\"\n    ENCODER_SPIKE_RATES_PATH = pooch.retrieve(\n        url=urljoin(DOWNLOAD_BASE_URL, \"encoded_rates_NDS-SpikeRates.npz\"),\n        known_hash=\"md5:79678d06ac67564c2d848d5d0c03c193\",\n    )\n    GENERATED_BIN_RATES_PATH = pooch.retrieve(\n        url=urljoin(DOWNLOAD_BASE_URL, \"bin_rates_NDS-RawData.npz\"),\n        known_hash=\"md5:95deeb69eee64a75d86ba8bf3c2d3897\",\n    )"
      ]
    },
    {
      "cell_type": "markdown",
      "metadata": {},
      "source": [
        "## Load data\nLoad the data to be plotted.\n\n"
      ]
    },
    {
      "cell_type": "code",
      "execution_count": null,
      "metadata": {
        "collapsed": false
      },
      "outputs": [],
      "source": [
        "encoder_spike_rates_file = np.load(ENCODER_SPIKE_RATES_PATH)\nencoder_spike_rates_data = encoder_spike_rates_file[\"data\"]\n\nephys_bin_rates = np.load(GENERATED_BIN_RATES_PATH)[\"arr_0\"]"
      ]
    },
    {
      "cell_type": "markdown",
      "metadata": {},
      "source": [
        "## Align rates\n\n"
      ]
    },
    {
      "cell_type": "code",
      "execution_count": null,
      "metadata": {
        "collapsed": false
      },
      "outputs": [],
      "source": [
        "def get_lag(x: np.ndarray, y: np.ndarray):\n    correlation = signal.correlate(x, y, mode=\"full\")\n    lags = signal.correlation_lags(x.size, y.size, mode=\"full\")\n    lag = lags[np.argmax(correlation)]\n    return abs(lag)\n\n\nh_lag = get_lag(encoder_spike_rates_data.T[0], ephys_bin_rates[0])\naligned_encoder_spike_rates_data = encoder_spike_rates_data[h_lag:, :]"
      ]
    },
    {
      "cell_type": "markdown",
      "metadata": {},
      "source": [
        "## Plot rates\n\n"
      ]
    },
    {
      "cell_type": "code",
      "execution_count": null,
      "metadata": {
        "collapsed": false
      },
      "outputs": [],
      "source": [
        "channel = 110\n\nplt.plot(aligned_encoder_spike_rates_data.T[channel], label=\"Encoder spike rates\")\nplt.plot(ephys_bin_rates[channel], label=\"Ephys generated spike rates\")\nplt.legend()\nplt.show()"
      ]
    }
  ],
  "metadata": {
    "kernelspec": {
      "display_name": "Python 3",
      "language": "python",
      "name": "python3"
    },
    "language_info": {
      "codemirror_mode": {
        "name": "ipython",
        "version": 3
      },
      "file_extension": ".py",
      "mimetype": "text/x-python",
      "name": "python",
      "nbconvert_exporter": "python",
      "pygments_lexer": "ipython3",
      "version": "3.9.16"
    }
  },
  "nbformat": 4,
  "nbformat_minor": 0
}