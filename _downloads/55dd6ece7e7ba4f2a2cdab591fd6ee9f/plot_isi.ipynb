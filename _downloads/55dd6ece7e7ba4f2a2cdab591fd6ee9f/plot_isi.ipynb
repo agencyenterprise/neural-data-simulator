{
  "cells": [
    {
      "cell_type": "code",
      "execution_count": null,
      "metadata": {
        "collapsed": false
      },
      "outputs": [],
      "source": [
        "%matplotlib inline"
      ]
    },
    {
      "cell_type": "markdown",
      "metadata": {},
      "source": [
        "\n# Visualize inter-spike interval (ISI)\n\n.. currentmodule:: neural_data_simulator\n\nThe goal of this example is to calculate and plot the inter-spike interval (ISI) for a given channel\nof the raw data.\n\nBy default, this script will download the data to be plotted from AWS S3. If you prefer to use\nyour own data, you can start the closed loop simulation in one terminal::\n\n    make run-closed-loop\n\nAnd then record the stream in another terminal::\n\n    recorder --session \"test\" --lsl \"NDS-RawData\" --recording-time 10\n\nMake sure to change the variable::\n\n    LOCAL_DATA = True\n\nand replace the variable with the path to your data::\n\n    RAW_DATA_PATH = \"the_path_to_your_recorded_raw_data.npz\"\n"
      ]
    },
    {
      "cell_type": "markdown",
      "metadata": {},
      "source": [
        "## Environment setup\n\n"
      ]
    },
    {
      "cell_type": "code",
      "execution_count": null,
      "metadata": {
        "collapsed": false
      },
      "outputs": [],
      "source": [
        "LOCAL_DATA = False"
      ]
    },
    {
      "cell_type": "markdown",
      "metadata": {},
      "source": [
        "## Set data source\nRetrieve the data from AWS S3 or define the path to your local file.\n\n"
      ]
    },
    {
      "cell_type": "code",
      "execution_count": null,
      "metadata": {
        "collapsed": false
      },
      "outputs": [],
      "source": [
        "from urllib.parse import urljoin\n\nimport pooch\n\nDOWNLOAD_BASE_URL = \"https://neural-data-simulator.s3.amazonaws.com/sample_data/v1/\"\n\nif not LOCAL_DATA:\n    RAW_DATA_PATH = pooch.retrieve(\n        url=urljoin(DOWNLOAD_BASE_URL, \"example_NDS-RawData.npz\"),\n        known_hash=\"md5:887d88387674d8a7d27726e11663eee4\",\n    )\nelse:\n    RAW_DATA_PATH = \"the_path_to_your_recorded_raw_data.npz\""
      ]
    },
    {
      "cell_type": "markdown",
      "metadata": {},
      "source": [
        "## Load data\nLoad the data to be plotted.\n\n"
      ]
    },
    {
      "cell_type": "code",
      "execution_count": null,
      "metadata": {
        "collapsed": false
      },
      "outputs": [],
      "source": [
        "from matplotlib.pyplot import figure\nimport matplotlib.pyplot as plt\nimport numpy as np\n\nraw_data_file = np.load(RAW_DATA_PATH)\nraw_data = raw_data_file[\"data\"] / 4\nraw_data_timestamps = raw_data_file[\"timestamps\"] - raw_data_file[\"timestamps\"][0]\n\n\nCHANNEL = 20\nTHRESHOLD = -200\nDURATION = raw_data_timestamps[-1] - raw_data_timestamps[0]"
      ]
    },
    {
      "cell_type": "markdown",
      "metadata": {},
      "source": [
        "## Calculating ISI\n\n"
      ]
    },
    {
      "cell_type": "code",
      "execution_count": null,
      "metadata": {
        "collapsed": false
      },
      "outputs": [],
      "source": [
        "def threshold_crossing(a: np.ndarray, threshold: float) -> np.ndarray:\n    \"\"\"Computes the indices of the array where the values pass a threshold\n\n    Args:\n        a (ndarray): An array of shape (time,).\n        threshold (float): A threshold to compare against the array. If\n            positive the crossings will be greater than the threshold,\n            if negative the crossing will be less than the threshold.\n            If 0, raise an error, this case is ambiguous\n\n    Returns:\n        (ndarray) The indices into the array that correspond to a crossing.\n    \"\"\"\n    if threshold > 0:\n        return np.nonzero((a[1:] >= threshold) & (a[:-1] < threshold))[0] + 1\n    elif threshold < 0:\n        return np.nonzero((a[1:] <= threshold) & (a[:-1] > threshold))[0] + 1\n    else:\n        raise ValueError(\"Threshold must be non-zero\")\n\n\ndef isi(spike_timestamps: np.ndarray) -> np.ndarray:\n    spike_timestamps_integers = (spike_timestamps * 10000).astype(\"int64\")\n    isi = np.diff(spike_timestamps_integers).astype(\"float32\") / 10000\n    return isi"
      ]
    },
    {
      "cell_type": "markdown",
      "metadata": {},
      "source": [
        "## Plot data\n\n"
      ]
    },
    {
      "cell_type": "code",
      "execution_count": null,
      "metadata": {
        "collapsed": false
      },
      "outputs": [],
      "source": [
        "plt.rcParams.update({\"font.size\": 14})\n\nfigure(figsize=(14, 10), dpi=180)\n\nplt.plot(raw_data_timestamps, raw_data[:, CHANNEL], \"k\")\nplt.ylabel(\"signal amplitude (uV)\")\nplt.xlabel(\"time (s)\")\n\nspike_indexes = threshold_crossing(raw_data[:, CHANNEL], THRESHOLD)\n\nspike_timestamps = raw_data_timestamps[spike_indexes]\n\nfigure(figsize=(14, 10), dpi=180)\ni = isi(spike_timestamps)\nplt.hist(i, bins=100, range=[0, 1], label=f\"CH{CHANNEL}: ISI\")\nplt.ylabel(\"spike count\")\nplt.xlabel(\"bin\")\nplt.legend()\n\nmean_isi = np.mean(i)\nvar_isi = np.var(i)\nspike_rate = len(spike_timestamps) / DURATION\n\nprint(\"calculated spikes: \", len(spike_indexes))\nprint(\"mean ISI: {}\".format(mean_isi))\nprint(\"ISI variance: {}\".format(var_isi))\nprint(\"spike rate: {}\".format(spike_rate))"
      ]
    },
    {
      "cell_type": "markdown",
      "metadata": {},
      "source": [
        "The values plotted and displayed above are reflecting the short sample we used for this example.\nFor a longer recording, the values will be more similar to the ones used for training the model.\n\n"
      ]
    }
  ],
  "metadata": {
    "kernelspec": {
      "display_name": "Python 3",
      "language": "python",
      "name": "python3"
    },
    "language_info": {
      "codemirror_mode": {
        "name": "ipython",
        "version": 3
      },
      "file_extension": ".py",
      "mimetype": "text/x-python",
      "name": "python",
      "nbconvert_exporter": "python",
      "pygments_lexer": "ipython3",
      "version": "3.9.16"
    }
  },
  "nbformat": 4,
  "nbformat_minor": 0
}