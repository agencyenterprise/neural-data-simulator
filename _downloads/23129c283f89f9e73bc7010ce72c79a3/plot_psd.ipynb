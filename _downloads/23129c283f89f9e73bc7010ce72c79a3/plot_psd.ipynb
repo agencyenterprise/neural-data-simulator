{
  "cells": [
    {
      "cell_type": "code",
      "execution_count": null,
      "metadata": {
        "collapsed": false
      },
      "outputs": [],
      "source": [
        "%matplotlib inline"
      ]
    },
    {
      "cell_type": "markdown",
      "metadata": {},
      "source": [
        "\n# Visualize Power Spectral Density (PSD)\n\n.. currentmodule:: neural_data_simulator\n\nThe goal of this example is to calculate and plot the Power Spectral Density (PSD) for a given channel\nof the raw data.\n\nBy default, this script will download the data to be plotted from AWS S3. If you prefer to use\nyour own data, you can start the closed loop simulation in one terminal::\n\n    make run-closed-loop\n\nAnd then record the stream in another terminal::\n\n    recorder --session \"test\" --lsl \"NDS-RawData\" --recording-time 10\n\nMake sure to change the variable::\n\n    LOCAL_DATA = True\n\nand replace the variable with the path to your data::\n\n    RAW_DATA_PATH = \"the_path_to_your_recorded_raw_data.npz\"\n"
      ]
    },
    {
      "cell_type": "markdown",
      "metadata": {},
      "source": [
        "## Environment setup\n\n"
      ]
    },
    {
      "cell_type": "code",
      "execution_count": null,
      "metadata": {
        "collapsed": false
      },
      "outputs": [],
      "source": [
        "LOCAL_DATA = False"
      ]
    },
    {
      "cell_type": "markdown",
      "metadata": {},
      "source": [
        "## Set data source\nRetrieve the data from AWS S3 or define the path to your local file.\n\n"
      ]
    },
    {
      "cell_type": "code",
      "execution_count": null,
      "metadata": {
        "collapsed": false
      },
      "outputs": [],
      "source": [
        "from urllib.parse import urljoin\n\nimport pooch\n\nDOWNLOAD_BASE_URL = \"https://neural-data-simulator.s3.amazonaws.com/sample_data/v1/\"\n\nif not LOCAL_DATA:\n    RAW_DATA_PATH = pooch.retrieve(\n        url=urljoin(DOWNLOAD_BASE_URL, \"example_NDS-RawData.npz\"),\n        known_hash=\"md5:887d88387674d8a7d27726e11663eee4\",\n    )\nelse:\n    RAW_DATA_PATH = \"the_path_to_your_recorded_raw_data.npz\""
      ]
    },
    {
      "cell_type": "markdown",
      "metadata": {},
      "source": [
        "## Load data\nLoad the data to be plotted.\n\n"
      ]
    },
    {
      "cell_type": "code",
      "execution_count": null,
      "metadata": {
        "collapsed": false
      },
      "outputs": [],
      "source": [
        "import numpy as np\n\nraw_data_file = np.load(RAW_DATA_PATH)\nraw_data = raw_data_file[\"data\"] / 4\nraw_data_timestamps = raw_data_file[\"timestamps\"] - raw_data_file[\"timestamps\"][0]\n\n\nCHANNEL = 20\nSAMPLING_RATE = 30000"
      ]
    },
    {
      "cell_type": "markdown",
      "metadata": {},
      "source": [
        "## Plot data\n\n"
      ]
    },
    {
      "cell_type": "code",
      "execution_count": null,
      "metadata": {
        "collapsed": false
      },
      "outputs": [],
      "source": [
        "import matplotlib.pyplot as plt\nfrom scipy import signal\n\n(f, S) = signal.welch(raw_data[:, CHANNEL], SAMPLING_RATE, nperseg=2**18)\n\nplt.semilogy(f, S)\nplt.xlim([0, 1000])\nplt.xlabel(\"frequency [Hz]\")\nplt.ylabel(\"PSD [V**2/Hz]\")\nplt.show()"
      ]
    }
  ],
  "metadata": {
    "kernelspec": {
      "display_name": "Python 3",
      "language": "python",
      "name": "python3"
    },
    "language_info": {
      "codemirror_mode": {
        "name": "ipython",
        "version": 3
      },
      "file_extension": ".py",
      "mimetype": "text/x-python",
      "name": "python",
      "nbconvert_exporter": "python",
      "pygments_lexer": "ipython3",
      "version": "3.9.16"
    }
  },
  "nbformat": 4,
  "nbformat_minor": 0
}