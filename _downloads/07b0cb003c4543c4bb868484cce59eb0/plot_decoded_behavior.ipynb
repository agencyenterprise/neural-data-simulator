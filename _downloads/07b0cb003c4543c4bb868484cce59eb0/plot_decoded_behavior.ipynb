{
  "cells": [
    {
      "cell_type": "code",
      "execution_count": null,
      "metadata": {
        "collapsed": false
      },
      "outputs": [],
      "source": [
        "%matplotlib inline"
      ]
    },
    {
      "cell_type": "markdown",
      "metadata": {},
      "source": [
        "\n# Visualize the input behavior together with the decoded behavior\n\n.. currentmodule:: neural_data_simulator\n\nThe goal of this example is to display the input behavior aligned with the decoded behavior in a plot.\n\nBy default, this script will download the data to be plotted from AWS S3. If you prefer to use\nyour own data, you can start the closed loop simulation in one terminal::\n\n    make run-closed-loop\n\nAnd then record the streams in another terminal::\n\n    recorder --session \"decode_example\" --lsl \"NDS-Behavior,NDS-Decoder\" --recording-time 10\n\nMake sure to change the variable::\n\n    LOCAL_DATA = True\n\nand replace the variable with the path to your data::\n\n    BEHAVIOR_DATA_PATH = \"the_path_to_your_recorded_behavior_data.npz\"\n    DECODER_DATA_PATH = \"the_path_to_your_recorded_decoder_data.npz\"\n"
      ]
    },
    {
      "cell_type": "markdown",
      "metadata": {},
      "source": [
        "## Environment setup\n\n"
      ]
    },
    {
      "cell_type": "code",
      "execution_count": null,
      "metadata": {
        "collapsed": false
      },
      "outputs": [],
      "source": [
        "LOCAL_DATA = False"
      ]
    },
    {
      "cell_type": "markdown",
      "metadata": {},
      "source": [
        "## Set data source\nRetrieve the data from AWS S3 or define the path to your local file.\n\n"
      ]
    },
    {
      "cell_type": "code",
      "execution_count": null,
      "metadata": {
        "collapsed": false
      },
      "outputs": [],
      "source": [
        "from urllib.parse import urljoin\n\nimport pooch\n\nDOWNLOAD_BASE_URL = \"https://neural-data-simulator.s3.amazonaws.com/sample_data/v1/\"\n\nif not LOCAL_DATA:\n    BEHAVIOR_DATA_PATH = pooch.retrieve(\n        url=urljoin(DOWNLOAD_BASE_URL, \"decode_example_NDS-Behavior.npz\"),\n        known_hash=\"md5:201cbd92f432b94ce8dcb8fb87c07634\",\n    )\n\n    DECODER_DATA_PATH = pooch.retrieve(\n        url=urljoin(DOWNLOAD_BASE_URL, \"decode_example_NDS-Decoder.npz\"),\n        known_hash=\"md5:a6a59c08dc32819a6781383e0ba1b4c1\",\n    )\n\nelse:\n    BEHAVIOR_DATA_PATH = \"the_path_to_your_recorded_behavior_data.npz\"\n    DECODER_DATA_PATH = \"the_path_to_your_recorded_decoder_data.npz\""
      ]
    },
    {
      "cell_type": "markdown",
      "metadata": {},
      "source": [
        "## Load data\nLoad the data to be plotted.\n\n"
      ]
    },
    {
      "cell_type": "code",
      "execution_count": null,
      "metadata": {
        "collapsed": false
      },
      "outputs": [],
      "source": [
        "import matplotlib.pyplot as plt\nimport numpy as np\nfrom scipy import signal\nfrom sklearn.metrics import r2_score\n\nbehavior_file = np.load(BEHAVIOR_DATA_PATH)\nbehavior_data = behavior_file[\"data\"]\nbehavior_timestamps = behavior_file[\"timestamps\"] - behavior_file[\"timestamps\"][0]\n\ndecoder_file = np.load(DECODER_DATA_PATH)\ndecoder_data = decoder_file[\"data\"]\ndecoder_timestamps = decoder_file[\"timestamps\"] - decoder_file[\"timestamps\"][0]"
      ]
    },
    {
      "cell_type": "markdown",
      "metadata": {},
      "source": [
        "## Plot data\n\n"
      ]
    },
    {
      "cell_type": "code",
      "execution_count": null,
      "metadata": {
        "collapsed": false
      },
      "outputs": [],
      "source": [
        "def _plot_velocities(\n    behavior_data: np.ndarray,\n    behavior_timestamps: np.ndarray,\n    decoder_data: np.ndarray,\n    r2: np.ndarray,\n    axis: int,\n):\n    mean = np.mean(decoder_data[:, axis])\n    std = np.std(decoder_data[:, axis])\n    if axis == 0:\n        plt.title(\n            (\n                f\"Horizontal direction: r2 = {r2[axis]:.2f}, \"\n                f\"mean = {mean:.2f}, std = {std:.2f}\"\n            )\n        )\n    else:\n        plt.title(\n            (\n                f\"Vertical direction: r2 = {r2[axis]:.2f}, \"\n                f\"mean = {mean:.2f}, std = {std:.2f}\"\n            )\n        )\n\n    plt.plot(\n        behavior_timestamps,\n        decoder_data[:, axis],\n        \"blue\",\n        label=\"Decoded (from simulated spikes)\",\n    )\n    plt.plot(\n        behavior_timestamps,\n        behavior_data[:, axis],\n        \"red\",\n        label=\"Input\",\n    )\n    plt.ylabel(\"Velocity (mm/s)\")\n    plt.xlabel(\"Time (s)\")\n    plt.legend()\n\n\ndef get_lag(x: np.ndarray, y: np.ndarray):\n    correlation = signal.correlate(x, y, mode=\"full\")\n    lags = signal.correlation_lags(x.size, y.size, mode=\"full\")\n    lag = lags[np.argmax(correlation)]\n    return abs(lag)\n\n\nh_lag = get_lag(behavior_data[:, 0], decoder_data[:, 0])\n\nbehavior_data = behavior_data[:, :]\nbehavior_timestamps = np.array(behavior_timestamps)[:]\nbehavior_timestamps = behavior_timestamps - behavior_timestamps[0]\ndecoder_data = decoder_data[h_lag:, :]\n\n# cut behavior and decoder streams to the same length\nmin_samples = min(decoder_data.shape[0], behavior_data.shape[0])\ndecoder_data = decoder_data[:min_samples, :]\nbehavior_data = behavior_data[:min_samples, :]\nbehavior_timestamps = behavior_timestamps[:min_samples]\n\nr2 = r2_score(behavior_data, decoder_data, multioutput=\"raw_values\")\n\ndpi = 180\nfig_size = (20, 5)\nplt.figure(num=\"Velocities overview\", dpi=dpi, figsize=fig_size)\n\nplt.subplot(2, 1, 1)\n_plot_velocities(behavior_data, behavior_timestamps, decoder_data, r2, axis=0)\n\nplt.subplot(2, 1, 2)\n_plot_velocities(behavior_data, behavior_timestamps, decoder_data, r2, axis=1)\n\nplt.tight_layout()\nplt.show()"
      ]
    }
  ],
  "metadata": {
    "kernelspec": {
      "display_name": "Python 3",
      "language": "python",
      "name": "python3"
    },
    "language_info": {
      "codemirror_mode": {
        "name": "ipython",
        "version": 3
      },
      "file_extension": ".py",
      "mimetype": "text/x-python",
      "name": "python",
      "nbconvert_exporter": "python",
      "pygments_lexer": "ipython3",
      "version": "3.9.16"
    }
  },
  "nbformat": 4,
  "nbformat_minor": 0
}