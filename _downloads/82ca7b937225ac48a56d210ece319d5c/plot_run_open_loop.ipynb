{
  "cells": [
    {
      "cell_type": "code",
      "execution_count": null,
      "metadata": {
        "collapsed": false
      },
      "outputs": [],
      "source": [
        "%matplotlib inline"
      ]
    },
    {
      "cell_type": "markdown",
      "metadata": {},
      "source": [
        "\n# Collect data to train your own decoder\n\n.. currentmodule:: neural_data_simulator\n\nThe goal of this example is to show how you can run an open loop simulation and collect the electrophysiology data\nneeded for training your own decoder.\n\nBy default, this script will download the data to be plotted from AWS S3. If you prefer to use\nyour own data, run the following steps:\n\n1. Configure center out reach to [run without a decoder](../utilities_and_examples.html#running-without-a-decoder).\n\n2. Run the following script::\n\n    # for macOS or Linux\n    {center_out_reach; pkill -SIGTERM -f recorder} &; encoder &; ephys_generator &; \\\n    recorder --session \"open_loop\" --lsl \"NDS-RawData\"; pkill -f decoder; \\\n    pkill -f ephys_generator; pkill -f encoder; pkill -f center_out_reach\n\n    # for Windows (PowerShell)\n    Start-Process center_out_reach; Start-Process encoder; Start-Process ephys_generator; `\n    recorder --session \"example\" --lsl \"NDS-RawData\"\n\n3. Press CTRL+C to stop the recording or add a *\\--recording_time n* to the recorder script to specify the amount of seconds to record\n\n4. Change the following variable below::\n\n    LOCAL_DATA = True\n\n5. Replace the variable with the path to your data::\n\n    RAW_DATA_PATH = \"the_path_to_your_recorded_raw_data.npz\"\n"
      ]
    },
    {
      "cell_type": "markdown",
      "metadata": {},
      "source": [
        "## Environment setup\n\n"
      ]
    },
    {
      "cell_type": "code",
      "execution_count": null,
      "metadata": {
        "collapsed": false
      },
      "outputs": [],
      "source": [
        "LOCAL_DATA = False"
      ]
    },
    {
      "cell_type": "markdown",
      "metadata": {},
      "source": [
        "## Set data source\nRetrieve the data from AWS S3 or define the path to your local file.\n\n"
      ]
    },
    {
      "cell_type": "code",
      "execution_count": null,
      "metadata": {
        "collapsed": false
      },
      "outputs": [],
      "source": [
        "from urllib.parse import urljoin\n\nimport pooch\n\nDOWNLOAD_BASE_URL = \"https://neural-data-simulator.s3.amazonaws.com/sample_data/v1/\"\n\nif not LOCAL_DATA:\n    RAW_DATA_PATH = pooch.retrieve(\n        url=urljoin(DOWNLOAD_BASE_URL, \"example_NDS-RawData.npz\"),\n        known_hash=\"md5:887d88387674d8a7d27726e11663eee4\",\n    )\nelse:\n    RAW_DATA_PATH = \"the_path_to_your_recorded_raw_data.npz\""
      ]
    },
    {
      "cell_type": "markdown",
      "metadata": {},
      "source": [
        "## Load data\nLoad the data to be plotted.\n\n"
      ]
    },
    {
      "cell_type": "code",
      "execution_count": null,
      "metadata": {
        "collapsed": false
      },
      "outputs": [],
      "source": [
        "import numpy as np\n\nraw_data_file = np.load(RAW_DATA_PATH)\nraw_data = raw_data_file[\"data\"] / 4\nraw_data_timestamps = raw_data_file[\"timestamps\"] - raw_data_file[\"timestamps\"][0]"
      ]
    },
    {
      "cell_type": "markdown",
      "metadata": {},
      "source": [
        "## Plot data\n\n"
      ]
    },
    {
      "cell_type": "code",
      "execution_count": null,
      "metadata": {
        "collapsed": false
      },
      "outputs": [],
      "source": [
        "import matplotlib.pyplot as plt\n\nCHANNEL = 20\n\nplt.plot(raw_data_timestamps, raw_data[:, CHANNEL])\nplt.show()"
      ]
    }
  ],
  "metadata": {
    "kernelspec": {
      "display_name": "Python 3",
      "language": "python",
      "name": "python3"
    },
    "language_info": {
      "codemirror_mode": {
        "name": "ipython",
        "version": 3
      },
      "file_extension": ".py",
      "mimetype": "text/x-python",
      "name": "python",
      "nbconvert_exporter": "python",
      "pygments_lexer": "ipython3",
      "version": "3.9.16"
    }
  },
  "nbformat": 4,
  "nbformat_minor": 0
}