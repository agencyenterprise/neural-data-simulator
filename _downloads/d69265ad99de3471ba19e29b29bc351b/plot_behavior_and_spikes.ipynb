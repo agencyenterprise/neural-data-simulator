{
  "cells": [
    {
      "cell_type": "code",
      "execution_count": null,
      "metadata": {
        "collapsed": false
      },
      "outputs": [],
      "source": [
        "%matplotlib inline"
      ]
    },
    {
      "cell_type": "markdown",
      "metadata": {},
      "source": [
        "\n# Visualize spike rates for input behavior\n\n.. currentmodule:: nds\n\nThe goal of this example is to show the spike rates predicted by the encoder for a given behavior input.\n\nBy default, this script will download the data to be plotted from AWS S3. If you prefer to use\nyour own data, you can start the closed loop simulation in one terminal::\n\n    make run-closed-loop\n\nAnd then record the streams in another terminal::\n\n    recorder --session \"test\" --lsl \"NDS-Behavior,NDS-SpikeRates,NDS-RawData\" --recording-time 10\n\nMake sure to change the variable::\n\n    LOCAL_DATA = True\n\nand replace the variables with the paths to your data::\n\n    BEHAVIOR_DATA_PATH = \"the_path_to_your_recorded_behavior_data.npz\"\n    SPIKES_RATES_DATA_PATH = \"the_path_to_your_recorded_spikes_rate_data.npz\"\n    RAW_DATA_PATH = \"the_path_to_your_recorded_raw_data.npz\"\n"
      ]
    },
    {
      "cell_type": "markdown",
      "metadata": {},
      "source": [
        "## Environment setup\n\n"
      ]
    },
    {
      "cell_type": "code",
      "execution_count": null,
      "metadata": {
        "collapsed": false
      },
      "outputs": [],
      "source": [
        "WITH_RAW_DATA = False\nLOCAL_DATA = False"
      ]
    },
    {
      "cell_type": "markdown",
      "metadata": {},
      "source": [
        "## Set data source\nRetrieve the data from AWS S3 or define the path to your local files.\n\n"
      ]
    },
    {
      "cell_type": "code",
      "execution_count": null,
      "metadata": {
        "collapsed": false
      },
      "outputs": [],
      "source": [
        "from urllib.parse import urljoin\n\nimport pooch\n\nDOWNLOAD_BASE_URL = \"https://neural-data-simulator.s3.amazonaws.com/sample_data/v1/\"\n\nif not LOCAL_DATA:\n    BEHAVIOR_DATA_PATH = pooch.retrieve(\n        url=urljoin(DOWNLOAD_BASE_URL, \"example_NDS-Behavior.npz\"),\n        known_hash=\"md5:5c95928f48a71eb3370885c58e14e765\",\n    )\n    SPIKES_RATES_DATA_PATH = pooch.retrieve(\n        url=urljoin(DOWNLOAD_BASE_URL, \"example_NDS-SpikeRates.npz\"),\n        known_hash=\"md5:64fe24f817969afb6d330283a78bca5f\",\n    )\n    if WITH_RAW_DATA:\n        RAW_DATA_PATH = pooch.retrieve(\n            url=urljoin(DOWNLOAD_BASE_URL, \"example_NDS-RawData.npz\"),\n            known_hash=\"md5:887d88387674d8a7d27726e11663eee4\",\n        )\nelse:\n    BEHAVIOR_DATA_PATH = \"the_path_to_your_recorded_behavior_data.npz\"\n    SPIKES_RATES_DATA_PATH = \"the_path_to_your_recorded_spikes_rate_data.npz\"\n    RAW_DATA_PATH = \"the_path_to_your_recorded_raw_data.npz\""
      ]
    },
    {
      "cell_type": "markdown",
      "metadata": {},
      "source": [
        "## Load data\nLoad the data to be plotted.\n\n"
      ]
    },
    {
      "cell_type": "code",
      "execution_count": null,
      "metadata": {
        "collapsed": false
      },
      "outputs": [],
      "source": [
        "from matplotlib.pyplot import figure\nimport matplotlib.pyplot as plt\nimport numpy as np\n\nbehavior_file = np.load(BEHAVIOR_DATA_PATH)\nspike_rates_file = np.load(SPIKES_RATES_DATA_PATH)\n\nspike_rates_data = spike_rates_file[\"data\"]\nspike_rates_timestamps = (\n    spike_rates_file[\"timestamps\"] - spike_rates_file[\"timestamps\"][0]\n)\n\nbehavior_data = behavior_file[\"data\"]\nbehavior_timestamps = behavior_file[\"timestamps\"] - behavior_file[\"timestamps\"][0]\n\nif WITH_RAW_DATA:\n    raw_file = np.load(RAW_DATA_PATH)\n    raw_data = raw_file[\"data\"] / 4\n    raw_timestamps = raw_file[\"timestamps\"] - raw_file[\"timestamps\"][0]"
      ]
    },
    {
      "cell_type": "markdown",
      "metadata": {},
      "source": [
        "## Plot data\n\n"
      ]
    },
    {
      "cell_type": "code",
      "execution_count": null,
      "metadata": {
        "collapsed": false
      },
      "outputs": [],
      "source": [
        "plt.rcParams.update({\"font.size\": 14})\n\nfigure(figsize=(20, 5), dpi=180)\nplt.plot(behavior_timestamps, behavior_data[:, 0], \"blue\", label=\"velocity x\")\nplt.plot(behavior_timestamps, behavior_data[:, 1], \"red\", label=\"velocity y\")\n\nplt.xlabel(\"time (s)\")\nplt.legend()\nplt.title(\"velocities\")\nplt.show()\n\n\nfigure(figsize=(20, 5), dpi=180)\nplt.plot(\n    spike_rates_timestamps,\n    spike_rates_data[:, 20],\n    \"k\",\n    label=\"Spike rates\",\n    linewidth=1.5,\n)\n\nplt.ylabel(\"rate (spike/s)\")\nplt.xlabel(\"time (s)\")\nplt.title(\"sample spike rate (channel 20)\")\nplt.show()\n\nif WITH_RAW_DATA:\n    figure(figsize=(20, 5), dpi=180)\n    plt.plot(raw_timestamps, raw_data[:, 20], \"k\", label=\"Raw data\", alpha=0.8)\n    plt.ylabel(\"signal amplitude (uV)\")\n    plt.xlabel(\"time (s)\")\n    plt.title(\"sample raw output (channel 20)\")\n    plt.show()"
      ]
    }
  ],
  "metadata": {
    "kernelspec": {
      "display_name": "Python 3",
      "language": "python",
      "name": "python3"
    },
    "language_info": {
      "codemirror_mode": {
        "name": "ipython",
        "version": 3
      },
      "file_extension": ".py",
      "mimetype": "text/x-python",
      "name": "python",
      "nbconvert_exporter": "python",
      "pygments_lexer": "ipython3",
      "version": "3.9.16"
    }
  },
  "nbformat": 4,
  "nbformat_minor": 0
}